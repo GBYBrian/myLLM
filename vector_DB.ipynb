{
 "cells": [
  {
   "cell_type": "code",
   "execution_count": 2,
   "id": "d7091a4d",
   "metadata": {},
   "outputs": [],
   "source": [
    "import os\n",
    "from dotenv import load_dotenv,find_dotenv"
   ]
  },
  {
   "cell_type": "code",
   "execution_count": 4,
   "id": "62d0d31d",
   "metadata": {},
   "outputs": [],
   "source": [
    "_ = load_dotenv(find_dotenv())"
   ]
  },
  {
   "cell_type": "code",
   "execution_count": 17,
   "id": "6d8d1d9b",
   "metadata": {},
   "outputs": [
    {
     "name": "stdout",
     "output_type": "stream",
     "text": [
      "../LLM/data_base/knowledge_db/必修一-Prompt Engineering For Developers\\1. 简介.md\n",
      "../LLM/data_base/knowledge_db/必修一-Prompt Engineering For Developers\\2. 提示原则 Guidelines.ipynb\n",
      "../LLM/data_base/knowledge_db/必修一-Prompt Engineering For Developers\\3. 迭代优化 Iterative.ipynb\n",
      "../LLM/data_base/knowledge_db/必修一-Prompt Engineering For Developers\\4. 文本概括 Summarizing.ipynb\n",
      "../LLM/data_base/knowledge_db/必修一-Prompt Engineering For Developers\\5. 推断 Inferring.ipynb\n",
      "../LLM/data_base/knowledge_db/必修一-Prompt Engineering For Developers\\6. 文本转换 Transforming.ipynb\n",
      "../LLM/data_base/knowledge_db/必修一-Prompt Engineering For Developers\\7. 文本扩展 Expanding.ipynb\n",
      "../LLM/data_base/knowledge_db/必修一-Prompt Engineering For Developers\\8. 聊天机器人 Chatbot.ipynb\n",
      "../LLM/data_base/knowledge_db/必修一-Prompt Engineering For Developers\\9. 总结.md\n",
      "../LLM/data_base/knowledge_db/必修一-Prompt Engineering For Developers\\readme.md\n",
      "../LLM/data_base/knowledge_db/必修一-Prompt Engineering For Developers\\附1-使用ChatGLM进行学习.ipynb\n"
     ]
    }
   ],
   "source": [
    "# 获取folder_path下所有的文件路径，存储在file_path里\n",
    "file_paths = []\n",
    "folder_path = '../LLM/data_base/knowledge_db/'\n",
    "for root,dirs,files in os.walk(folder_path):\n",
    "    # os.walk是一个生成器，用于遍历指定目录中的所有子目录和文件\n",
    "    # 每次迭代都会返回一个三元组（root,dirs,files）\n",
    "    # root: 当前遍历的路径\n",
    "    # dirs: 该目录中子目录的列表\n",
    "    # files: 该目录中文件的列表\n",
    "    if root == folder_path:\n",
    "        continue\n",
    "    for file in files:\n",
    "        file_path = os.path.join(root,file)\n",
    "        file_paths.append(file_path)\n",
    "for i in file_paths:\n",
    "    print(i)"
   ]
  },
  {
   "cell_type": "code",
   "execution_count": 28,
   "id": "241d5304",
   "metadata": {},
   "outputs": [
    {
     "name": "stdout",
     "output_type": "stream",
     "text": [
      "3\n"
     ]
    }
   ],
   "source": [
    "from langchain.document_loaders.pdf import PyMuPDFLoader\n",
    "from langchain.document_loaders.markdown import UnstructuredMarkdownLoader\n",
    "# 遍历路径并把实例化的loader存放到Loaders\n",
    "loaders = []\n",
    "for file_path in file_paths:\n",
    "    file_type = file_path.split('.')[-1]\n",
    "    if file_type == 'pdf':\n",
    "        loaders.append(PyMuPDFLoader(file_path))\n",
    "    elif file_type == 'md':\n",
    "        loaders.append(UnstructuredMarkdownLoader(file_path))\n",
    "print(len(loaders))"
   ]
  },
  {
   "cell_type": "code",
   "execution_count": 22,
   "id": "ef6151dd",
   "metadata": {},
   "outputs": [],
   "source": [
    "# 下载文件并存储到text中\n",
    "texts = []\n",
    "for loader in loaders: texts.extend(loader.load())"
   ]
  },
  {
   "cell_type": "code",
   "execution_count": 27,
   "id": "45622cb7",
   "metadata": {},
   "outputs": [
    {
     "name": "stdout",
     "output_type": "stream",
     "text": [
      "每一个元素的类型：<class 'langchain_core.documents.base.Document'>\n",
      "----------\n",
      "当文档的描述性数据：{'source': '../LLM/data_base/knowledge_db/必修一-Prompt Engineering For Developers\\\\9. 总结.md'}\n",
      "----------\n",
      "该文档的内容：\n",
      "恭喜您完成了这门短期课程。\n",
      "\n",
      "总的来说，在这门课程中，我们学习了关于 Prompt 的两个关键原则：\n",
      "\n",
      "编写清晰具体的指令；\n",
      "\n",
      "如果适当的话，给模型一些思考时间。\n",
      "\n",
      "您还学习了迭代式 Prompt 开发的方法，并了解了如何找到适合您应用程序的 Prompt 的过程是非常关键的。\n",
      "\n",
      "我们还介绍了许多大型语言模型的功能，包括摘要、推断、转换和扩展。您还学会了如何构建自定义聊天机器人。在这门短期课程中，您学到了很多，希望您喜欢这些学习材料。\n",
      "\n",
      "我们希望您能想出一些应用程序的想法，并尝试自己构建它们。请尝试一下并让我们知道您的想法。您可以从一个非常小的项目开始，也许它具有一定的实用价值，也可能完全没有实用价值，只是一些有趣好玩儿的东西。请利用您第一个项目的学习经验来构建更好的第二个项目，甚至更好的第三个项目等。或者，如果您已经有一个更大的项目想法，那就去做吧。\n",
      "\n",
      "大型语言模型非常强大，作为提醒，我们希望大家负责任地使用它们，请仅构建对他人有积极影响的东西。在这个时代，构建人工智能系统的人可以对他人产生巨大的影响。因此必须负责任地使用这些工具。\n",
      "\n",
      "现在，基于大型语言模型构建应用程序是一个非常令人兴奋和不断发展的领域。现在您已经完成了这门课程，我们认为您现在拥有了丰富的知识，可以帮助您构建其他人今天不知道如何构建的东西。因此，我希望您也能帮助我们传播并鼓励其他人也参加这门课程。\n",
      "\n",
      "最后，希望您在完成这门课程时感到愉快，感谢您完成了这门课程。我们期待得知您构建的惊人之作。\n"
     ]
    }
   ],
   "source": [
    "text = texts[1]\n",
    "print(f\"每一个元素的类型：{type(text)}\",\n",
    "      f\"当文档的描述性数据：{text.metadata}\",\n",
    "      f\"该文档的内容：\\n{text.page_content[0:]}\",\n",
    "      sep = \"\\n----------\\n\")"
   ]
  }
 ],
 "metadata": {
  "kernelspec": {
   "display_name": "Python [conda env:AFT]",
   "language": "python",
   "name": "conda-env-AFT-py"
  },
  "language_info": {
   "codemirror_mode": {
    "name": "ipython",
    "version": 3
   },
   "file_extension": ".py",
   "mimetype": "text/x-python",
   "name": "python",
   "nbconvert_exporter": "python",
   "pygments_lexer": "ipython3",
   "version": "3.12.3"
  }
 },
 "nbformat": 4,
 "nbformat_minor": 5
}
