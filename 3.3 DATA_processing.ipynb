{
 "cells": [
  {
   "cell_type": "markdown",
   "id": "27791676",
   "metadata": {},
   "source": [
    "# read the raw file"
   ]
  },
  {
   "cell_type": "markdown",
   "id": "f7429797",
   "metadata": {},
   "source": [
    "## data reading"
   ]
  },
  {
   "cell_type": "markdown",
   "id": "8301f812",
   "metadata": {},
   "source": [
    "### PDF"
   ]
  },
  {
   "cell_type": "code",
   "execution_count": 6,
   "id": "cb69df17",
   "metadata": {},
   "outputs": [],
   "source": [
    "from langchain.document_loaders.pdf import PyMuPDFLoader"
   ]
  },
  {
   "cell_type": "code",
   "execution_count": 62,
   "id": "2850e79b",
   "metadata": {},
   "outputs": [],
   "source": [
    "# 创建一个PyMuPDFLoader Class实例，输入为待加载的pdf文档路径\n",
    "loader = PyMuPDFLoader(\"../LLM/data_base/knowledge_db/pumpkin_book.pdf\")\n",
    "\n",
    "# 调用PyMuPDFLoader Class的函数load加载pdf文件\n",
    "pdf_pages = loader.load()"
   ]
  },
  {
   "cell_type": "code",
   "execution_count": 64,
   "id": "bf56d77b",
   "metadata": {},
   "outputs": [
    {
     "name": "stdout",
     "output_type": "stream",
     "text": [
      "载入后的变量类型：<class 'list'>,\n",
      "该pdf一共包含196页\n"
     ]
    }
   ],
   "source": [
    "print(\"载入后的变量类型：{0},\\n该pdf一共包含{1}页\".format(type(pdf_pages),len(pdf_pages)))"
   ]
  },
  {
   "cell_type": "code",
   "execution_count": 65,
   "id": "08605f13",
   "metadata": {},
   "outputs": [
    {
     "name": "stdout",
     "output_type": "stream",
     "text": [
      "每一个元素的类型：<class 'langchain_core.documents.base.Document'>\n",
      "------\n",
      "该文档的描述性数据：{'source': '../LLM/data_base/knowledge_db/pumpkin_book.pdf', 'file_path': '../LLM/data_base/knowledge_db/pumpkin_book.pdf', 'page': 1, 'total_pages': 196, 'format': 'PDF 1.5', 'title': '', 'author': '', 'subject': '', 'keywords': '', 'creator': 'LaTeX with hyperref', 'producer': 'xdvipdfmx (20200315)', 'creationDate': \"D:20231117152045-00'00'\", 'modDate': '', 'trapped': ''}\n",
      "------\n",
      "查看该文档的内容：前言\n",
      "“周志华老师的《机器学习》\n",
      "（西瓜书）是机器学习领域的经典入门教材之一，周老师为了使尽可能多的读\n",
      "者通过西瓜书对机器学习有所了解, 所以在书中对部分公式的推导细节没有详述，但是这对那些想深究公式推\n",
      "导细节的读者来说可能“不太友好”\n",
      "，本书旨在对西瓜书里比较难理解的公式加以解析，以及对部分公式补充\n",
      "具体的推导细节。\n",
      "”\n",
      "读到这里，大家可能会疑问为啥前面这段话加了引号，因为这只是我们最初的遐想，后来我们了解到，周\n",
      "老师之所以省去这些推导细节的真实原因是，他本尊认为“理工科数学基础扎实点的大二下学生应该对西瓜书\n",
      "中的推导细节无困难吧，要点在书里都有了，略去的细节应能脑补或做练习”\n",
      "。所以...... 本南瓜书只能算是我\n",
      "等数学渣渣在自学的时候记下来的笔记，希望能够帮助大家都成为一名合格的“理工科数学基础扎实点的大二\n",
      "下学生”\n",
      "。\n",
      "使用说明\n",
      "• 南瓜书的所有内容都是以西瓜书的内容为前置知识进行表述的，所以南瓜书的最佳使用方法是以西瓜书\n",
      "为主线，遇到自己推导不出来或者看不懂的公式时再来查阅南瓜书；\n",
      "• 对于初学机器学习的小白，西瓜书第1 章和第2 章的公式强烈不建议深究，简单过一下即可，等你学得\n",
      "有点飘的时候再回来啃都来得及；\n",
      "• 每个公式的解析和推导我们都力(zhi) 争(neng) 以本科数学基础的视角进行讲解，所以超纲的数学知识\n",
      "我们通常都会以附录和参考文献的形式给出，感兴趣的同学可以继续沿着我们给的资料进行深入学习；\n",
      "• 若南瓜书里没有你想要查阅的公式，\n",
      "或者你发现南瓜书哪个地方有错误，\n",
      "请毫不犹豫地去我们GitHub 的\n",
      "Issues（地址：https://github.com/datawhalechina/pumpkin-book/issues）进行反馈，在对应版块\n",
      "提交你希望补充的公式编号或者勘误信息，我们通常会在24 小时以内给您回复，超过24 小时未回复的\n",
      "话可以微信联系我们（微信号：at-Sm1les）\n",
      "；\n",
      "配套视频教程：https://www.bilibili.com/video/BV1Mh411e7VU\n",
      "在线阅读地址：https://datawhalechina.github.io/pumpkin-book（仅供第1 版）\n",
      "最新版PDF 获取地址：https://github.com/datawhalechina/pumpkin-book/releases\n",
      "编委会\n",
      "主编：Sm1les、archwalker、jbb0523\n",
      "编委：juxiao、Majingmin、MrBigFan、shanry、Ye980226\n",
      "封面设计：构思-Sm1les、创作-林王茂盛\n",
      "致谢\n",
      "特别感谢awyd234、\n",
      "feijuan、\n",
      "Ggmatch、\n",
      "Heitao5200、\n",
      "huaqing89、\n",
      "LongJH、\n",
      "LilRachel、\n",
      "LeoLRH、\n",
      "Nono17、\n",
      "spareribs、sunchaothu、StevenLzq 在最早期的时候对南瓜书所做的贡献。\n",
      "扫描下方二维码，然后回复关键词“南瓜书”\n",
      "，即可加入“南瓜书读者交流群”\n",
      "版权声明\n",
      "本作品采用知识共享署名-非商业性使用-相同方式共享4.0 国际许可协议进行许可。\n",
      "\n"
     ]
    }
   ],
   "source": [
    "pdf_page = pdf_pages[1]\n",
    "print(\n",
    "    f\"每一个元素的类型：{type(pdf_page)}\",\n",
    "    f\"该文档的描述性数据：{pdf_page.metadata}\",\n",
    "    f\"查看该文档的内容：{pdf_page.page_content}\",\n",
    "    sep = \"\\n------\\n\"\n",
    ")"
   ]
  },
  {
   "cell_type": "markdown",
   "id": "aaef4bc3",
   "metadata": {},
   "source": [
    "### md "
   ]
  },
  {
   "cell_type": "code",
   "execution_count": 25,
   "id": "af24a451",
   "metadata": {},
   "outputs": [],
   "source": [
    "from langchain.document_loaders.markdown import UnstructuredMarkdownLoader"
   ]
  },
  {
   "cell_type": "code",
   "execution_count": 38,
   "id": "9799468c",
   "metadata": {},
   "outputs": [],
   "source": [
    "loader = UnstructuredMarkdownLoader(\"../LLM/data_base/knowledge_db/1. 简介.md\")\n",
    "md_pages = loader.load()"
   ]
  },
  {
   "cell_type": "code",
   "execution_count": 39,
   "id": "f50f5b1e",
   "metadata": {},
   "outputs": [
    {
     "name": "stdout",
     "output_type": "stream",
     "text": [
      "载入后的类型是<class 'list'> 该markdown一共包含1页\n"
     ]
    }
   ],
   "source": [
    "print(f\"载入后的类型是{type(md_pages)}\",\n",
    "      f\"该markdown一共包含{len(md_pages)}页\")"
   ]
  },
  {
   "cell_type": "code",
   "execution_count": 41,
   "id": "65fea713",
   "metadata": {},
   "outputs": [
    {
     "name": "stdout",
     "output_type": "stream",
     "text": [
      "每一个元素的类型：<class 'langchain_core.documents.base.Document'>\n",
      "---------\n",
      "该文档的描述性数据：{'source': '../LLM/data_base/knowledge_db/1. 简介.md'}\n",
      "---------\n",
      "查看该文档的内容：\n",
      "第一章 简介\n",
      "\n",
      "作者 吴恩达教授\n",
      "\n",
      "欢迎来到本课程，我们将为开发人员介绍 ChatGPT 提示词工程（Prompt Engineering）。本课程由 Isa Fulford 教授和我一起授课。Isa 是 OpenAI 的技术团队成员，曾开发过受欢迎的 ChatGPT 检索插件，并且在教授 LLM （Large Language Model, 大语言模型）技术在产品中的应用方面做出了很大贡献。她还\n"
     ]
    }
   ],
   "source": [
    "md_page = md_pages[0]\n",
    "print(f\"每一个元素的类型：{type(md_page)}\",\n",
    "      f\"该文档的描述性数据：{md_page.metadata}\",\n",
    "      f\"查看该文档的内容：\\n{md_page.page_content[0:][:200]}\",\n",
    "      sep = \"\\n---------\\n\")"
   ]
  },
  {
   "cell_type": "markdown",
   "id": "dbcf1743",
   "metadata": {},
   "source": [
    "## 数据清洗"
   ]
  },
  {
   "cell_type": "code",
   "execution_count": 43,
   "id": "0e92f021",
   "metadata": {},
   "outputs": [],
   "source": [
    "import re"
   ]
  },
  {
   "cell_type": "code",
   "execution_count": 67,
   "id": "4c7618bb",
   "metadata": {},
   "outputs": [
    {
     "name": "stdout",
     "output_type": "stream",
     "text": [
      "前言\n",
      "“周志华老师的《机器学习》（西瓜书）是机器学习领域的经典入门教材之一，周老师为了使尽可能多的读\n",
      "者通过西瓜书对机器学习有所了解,所以在书中对部分公式的推导细节没有详述，但是这对那些想深究公式推\n",
      "导细节的读者来说可能“不太友好”，本书旨在对西瓜书里比较难理解的公式加以解析，以及对部分公式补充\n",
      "具体的推导细节。”\n",
      "读到这里，大家可能会疑问为啥前面这段话加了引号，因为这只是我们最初的遐想，后来我们了解到，周\n",
      "老师之所以省去这些推导细节的真实原因是，他本尊认为“理工科数学基础扎实点的大二下学生应该对西瓜书\n",
      "中的推导细节无困难吧，要点在书里都有了，略去的细节应能脑补或做练习”。所以本南瓜书只能算是我\n",
      "等数学渣渣在自学的时候记下来的笔记，希望能够帮助大家都成为一名合格的“理工科数学基础扎实点的大二\n",
      "下学生”。\n",
      "使用说明\n",
      "•南瓜书的所有内容都是以西瓜书的内容为前置知识进行表述的，所以南瓜书的最佳使用方法是以西瓜书\n",
      "为主线，遇到自己推导不出来或者看不懂的公式时再来查阅南瓜书；•对于初学机器学习的小白，西瓜书第1章和第2章的公式强烈不建议深究，简单过一下即可，等你学得\n",
      "有点飘的时候再回来啃都来得及；•每个公式的解析和推导我们都力(zhi)争(neng)以本科数学基础的视角进行讲解，所以超纲的数学知识\n",
      "我们通常都会以附录和参考文献的形式给出，感兴趣的同学可以继续沿着我们给的资料进行深入学习；•若南瓜书里没有你想要查阅的公式，\n",
      "或者你发现南瓜书哪个地方有错误，\n",
      "请毫不犹豫地去我们GitHub的\n",
      "Issues（地址：https://githubcom/datawhalechina/pumpkin-book/issues）进行反馈，在对应版块\n",
      "提交你希望补充的公式编号或者勘误信息，我们通常会在24小时以内给您回复，超过24小时未回复的\n",
      "话可以微信联系我们（微信号：at-Sm1les）；\n",
      "配套视频教程：https://wwwbilibilicom/video/BV1Mh411e7VU\n",
      "在线阅读地址：https://datawhalechinagithubio/pumpkin-book（仅供第1版）\n",
      "最新版PDF获取地址：https://githubcom/datawhalechina/pumpkin-book/releases\n",
      "编委会\n",
      "主编：Sm1les、archwalker、jbb0523\n",
      "编委：juxiao、Majingmin、MrBigFan、shanry、Ye980226\n",
      "封面设计：构思-Sm1les、创作-林王茂盛\n",
      "致谢\n",
      "特别感谢awyd234、feijuan、Ggmatch、Heitao5200、huaqing89、LongJH、LilRachel、LeoLRH、Nono17、spareribs、sunchaothu、StevenLzq在最早期的时候对南瓜书所做的贡献。\n",
      "扫描下方二维码，然后回复关键词“南瓜书”，即可加入“南瓜书读者交流群”\n",
      "版权声明\n",
      "本作品采用知识共享署名-非商业性使用-相同方式共享40国际许可协议进行许可。\n",
      "\n"
     ]
    }
   ],
   "source": [
    "# print(pdf_page.page_content)\n",
    "pattern = re.compile(r'[^\\u4e00-\\u9fff](\\n)[^\\u4e00-\\u9fff]', re.DOTALL)\n",
    "# 在page_content中寻找与pattern匹配的，每次找到匹配的，就调用lambda中的match方法进行替换\n",
    "pdf_page.page_content = re.sub(pattern,lambda match: match.group(0).replace('\\n','') , pdf_page.page_content)\n",
    "pdf_page.page_content = pdf_page.page_content.replace('.','')\n",
    "pdf_page.page_content = pdf_page.page_content.replace(' ','')\n",
    "print(pdf_page.page_content)"
   ]
  },
  {
   "cell_type": "code",
   "execution_count": 70,
   "id": "5b103934",
   "metadata": {},
   "outputs": [
    {
     "data": {
      "text/plain": [
       "'第一章 简介\\n作者 吴恩达教授\\n欢迎来到本课程，我们将为开发人员介绍 ChatGPT 提示词工程（Prompt Engineering）。本课程由 Isa Fulford 教授和我一起授课。Isa 是 OpenAI 的技术团队成员，曾开发过受欢迎的 ChatGPT 检索插件，并且在教授 LLM （Large Language Model, 大语言模型）技术在产品中的应用方面做出了很大贡献。她还参与编写了教授人们使用 Prompt 的 OpenAI cookbook。\\n互联网上有很多有关提示词（Prompt, 本教程中将保留该术语）的材料，例如《30 prompts everyone has to know》之类的文章。这些文章主要集中在 ChatGPT 的 Web 界面上，许多人在使用它执行特定的、通常是一次性的任务。但是，我认为对于开发人员，LLM 的更强大功能是能通过 API 调用，从而快速构建软件应用程序。我认为这方面还没有得到充分的重视。实际上，我们在 DeepLearning.AI 的姊妹公司 AI Fund 的团队一直在与许多初创公司合作，将这些技术应用于诸多应用程序上。很兴奋能看到 LLM API 能够让开发人员非常快速地构建应用程序。\\n在本课程中，我们将与您分享一些技巧，来挖掘 LLM 的潜力，也会提供应用上的最佳实践。过程中会涉及大量材料。首先，你会学习到用于软件开发的 Prompt 最佳实践，随后会涉及到几个常用使用例，包括概括、推断、转换与扩展，最后会利用 LLM 构建 chatbot（聊天机器人）。希望这能激发你的想象力，去开拓新应用。\\n随着 LLM 的发展，其大致可以分为两种类型，后续称为基础 LLM 和指令微调（Instruction Tuned）LLM。基础LLM是基于文本训练数据，训练出预测下一个单词能力的模型。其通常通过在互联网和其他来源的大量数据上训练，来确定紧接着出现的最可能的词。例如，如果你以“从前,有一只独角兽”作为 Prompt ，基础 LLM 可能会继续预测“她与独角兽朋友共同生活在一片神奇森林中”。但是，如果你以“法国的首都是什么”为 Prompt ，则基础 LLM 可能会根据互联网上的文章，将回答预测为“法国最大的城市是什么？法国的人口是多少？”，因为互联网上的文章很可能是有关法国国家的问答题目列表。\\n而对于指令微调的 LLM ，相关研究和实践正甚嚣尘上，训练它们来遵循指示。因此，如果你问它，“法国的首都是什么？”，它有极大可能输出“法国的首都是巴黎”。指令微调的LLM的训练通常是基于预训练好的LLM的，即模型已经在大量文本数据上进行了训练。然后对其进行进一步训练与微调（finetune），使用的数据包括输入和理想输出（输入是指令、输出是遵循这些指令的良好回答）。然后通常使用一种称为 RLHF（reinforcement learning from human feedback，人类反馈强化学习）的技术进行进一步改进，使系统更能够有帮助地遵循指令。\\n因为指令微调的 LLM 已经被训练成有益、诚实、无害的，所以与基础 LLM 相比，它们更不可能输出有问题的文本，如有害输出。许多实际使用场景已经转向指令微调的 LLM 。您在互联网上找到的一些最佳实践可能更适用于基础 LLM ，但对于今天的大多数实际应用，我们建议将注意力集中在指令微调的 LLM 上，这些 LLM 更容易使用，而且由于 OpenAI 和其他 LLM 公司的工作，它们变得更加安全，也更加协调。\\n因此，本课程将重点介绍针对指令微调 LLM 的最佳实践，我们也建议您将其用于大多数使用场景。在继续之前，我想感谢 OpenAI 和 DeepLearning.ai 团队为 Isa 和我所提供的材料作出的贡献。我非常感激 OpenAI 的 Andrew Main、Joe Palermo、Boris Power、Ted Sanders 和 Lillian Weng，他们参与了我们的头脑风暴材料的制定和审核，为这个短期课程编制了课程大纲。我也感激 Deep Learning 方面的 Geoff Ladwig、Eddy Shyu 和 Tommy Nelson 的工作。\\n当您使用指令微调 LLM 时，您可以类比为向另一个人提供指令（假设他很聪明但不知道您任务的具体细节）。因此，当 LLM 无法正常工作时，有时是因为指令不够清晰。例如，如果您想问“请为我写一些关于阿兰·图灵( Alan Turing )的东西”，在此基础上清楚表明您希望文本专注于他的科学工作、个人生活、历史角色或其他方面可能会更有帮助。另外您还可以指定回答的语调, 来更加满足您的需求，可选项包括专业记者写作，或者向朋友写的随笔等。\\n如果你将 LLM 视为一名新毕业的大学生，要求他完成这个任务，你甚至可以提前指定他们应该阅读哪些文本片段来写关于 Alan Turing 的文本，这样能够帮助这位新毕业的大学生更好地完成这项任务。下一章你会看到提示词创建的两个原则，一是清晰明确，二是给LLM时间去思考。'"
      ]
     },
     "execution_count": 70,
     "metadata": {},
     "output_type": "execute_result"
    }
   ],
   "source": [
    "md_page.page_content = md_page.page_content.replace('\\n\\n','\\n')\n",
    "md_page.page_content"
   ]
  },
  {
   "cell_type": "code",
   "execution_count": 72,
   "id": "b6f53fbc",
   "metadata": {},
   "outputs": [],
   "source": [
    "from langchain.text_splitter import RecursiveCharacterTextSplitter"
   ]
  },
  {
   "cell_type": "code",
   "execution_count": 76,
   "id": "cb604fb0",
   "metadata": {},
   "outputs": [
    {
     "data": {
      "text/plain": [
       "['前言\\n“周志华老师的《机器学习》（西瓜书）是机器学习领域的经典入门教材之一，周老师为了使尽可能多的读\\n者通过西瓜书对机器学习有所了解,所以在书中对部分公式的推导细节没有详述，但是这对那些想深究公式推\\n导细节的读者来说可能“不太友好”，本书旨在对西瓜书里比较难理解的公式加以解析，以及对部分公式补充\\n具体的推导细节。”\\n读到这里，大家可能会疑问为啥前面这段话加了引号，因为这只是我们最初的遐想，后来我们了解到，周\\n老师之所以省去这些推导细节的真实原因是，他本尊认为“理工科数学基础扎实点的大二下学生应该对西瓜书\\n中的推导细节无困难吧，要点在书里都有了，略去的细节应能脑补或做练习”。所以本南瓜书只能算是我\\n等数学渣渣在自学的时候记下来的笔记，希望能够帮助大家都成为一名合格的“理工科数学基础扎实点的大二\\n下学生”。\\n使用说明\\n•南瓜书的所有内容都是以西瓜书的内容为前置知识进行表述的，所以南瓜书的最佳使用方法是以西瓜书\\n为主线，遇到自己推导不出来或者看不懂的公式时再来查阅南瓜书；•对于初学机器学习的小白，西瓜书第1章和第2章的公式强烈不建议深究，简单过一下即可，等你学得',\n",
       " '有点飘的时候再回来啃都来得及；•每个公式的解析和推导我们都力(zhi)争(neng)以本科数学基础的视角进行讲解，所以超纲的数学知识\\n我们通常都会以附录和参考文献的形式给出，感兴趣的同学可以继续沿着我们给的资料进行深入学习；•若南瓜书里没有你想要查阅的公式，\\n或者你发现南瓜书哪个地方有错误，\\n请毫不犹豫地去我们GitHub的\\nIssues（地址：https://githubcom/datawhalechina/pumpkin-book/issues）进行反馈，在对应版块\\n提交你希望补充的公式编号或者勘误信息，我们通常会在24小时以内给您回复，超过24小时未回复的\\n话可以微信联系我们（微信号：at-Sm1les）；\\n配套视频教程：https://wwwbilibilicom/video/BV1Mh411e7VU\\n在线阅读地址：https://datawhalechinagithubio/pumpkin-book（仅供第1版）\\n最新版PDF获取地址：https://githubcom/datawhalechina/pumpkin-book/releases\\n编委会',\n",
       " '编委会\\n主编：Sm1les、archwalker、jbb0523\\n编委：juxiao、Majingmin、MrBigFan、shanry、Ye980226\\n封面设计：构思-Sm1les、创作-林王茂盛\\n致谢\\n特别感谢awyd234、feijuan、Ggmatch、Heitao5200、huaqing89、LongJH、LilRachel、LeoLRH、Nono17、spareribs、sunchaothu、StevenLzq在最早期的时候对南瓜书所做的贡献。\\n扫描下方二维码，然后回复关键词“南瓜书”，即可加入“南瓜书读者交流群”\\n版权声明\\n本作品采用知识共享署名-非商业性使用-相同方式共享40国际许可协议进行许可。']"
      ]
     },
     "execution_count": 76,
     "metadata": {},
     "output_type": "execute_result"
    }
   ],
   "source": [
    "# 知识库中的单段文本长度\n",
    "CHUNK_SIZE = 500\n",
    "# 相邻文本重合的长度\n",
    "OVERLAP_SIZE = 50\n",
    "# 使用递归字符文本分割器\n",
    "text_splitter = RecursiveCharacterTextSplitter(\n",
    "    chunk_size = CHUNK_SIZE,\n",
    "    chunk_overlap = OVERLAP_SIZE\n",
    ")\n",
    "text_splitter.split_text(pdf_page.page_content[:2000])"
   ]
  },
  {
   "cell_type": "code",
   "execution_count": 100,
   "id": "69d28f2f",
   "metadata": {},
   "outputs": [
    {
     "name": "stdout",
     "output_type": "stream",
     "text": [
      "切分后的文件数量：720\n",
      "切分后的字符数量（可以大致用来估计token）:308782\n"
     ]
    }
   ],
   "source": [
    "split_docs = text_splitter.split_documents(pdf_pages)\n",
    "print(\"切分后的文件数量：{}\".format(len(split_docs)))\n",
    "total = 0\n",
    "for l in [len(doc.page_content) for doc in split_docs]:\n",
    "    total += l\n",
    "total\n",
    "print(f\"切分后的字符数量（可以大致用来估计token）:{total}\")\n",
    "# # 切分后的字符数，可以大致用来估计token数\n",
    "# sum = sum([len(doc.page_content) for doc in split_docs])\n",
    "# print(\"切分后的字符串数（大致用来估计token）:{}\".format(sum))"
   ]
  },
  {
   "cell_type": "code",
   "execution_count": 102,
   "id": "a1af72c4",
   "metadata": {},
   "outputs": [
    {
     "ename": "TypeError",
     "evalue": "'int' object is not callable",
     "output_type": "error",
     "traceback": [
      "\u001b[1;31m---------------------------------------------------------------------------\u001b[0m",
      "\u001b[1;31mTypeError\u001b[0m                                 Traceback (most recent call last)",
      "Cell \u001b[1;32mIn[102], line 3\u001b[0m\n\u001b[0;32m      1\u001b[0m split_docs \u001b[38;5;241m=\u001b[39m text_splitter\u001b[38;5;241m.\u001b[39msplit_documents(pdf_pages)\n\u001b[0;32m      2\u001b[0m l \u001b[38;5;241m=\u001b[39m [\u001b[38;5;28mlen\u001b[39m(doc\u001b[38;5;241m.\u001b[39mpage_content) \u001b[38;5;28;01mfor\u001b[39;00m doc \u001b[38;5;129;01min\u001b[39;00m split_docs]\n\u001b[1;32m----> 3\u001b[0m \u001b[38;5;28;43msum\u001b[39;49m\u001b[43m(\u001b[49m\u001b[43ml\u001b[49m\u001b[43m)\u001b[49m\n",
      "\u001b[1;31mTypeError\u001b[0m: 'int' object is not callable"
     ]
    }
   ],
   "source": [
    "split_docs = text_splitter.split_documents(pdf_pages)\n",
    "l = [len(doc.page_content) for doc in split_docs]\n",
    "sum(l)"
   ]
  }
 ],
 "metadata": {
  "kernelspec": {
   "display_name": "Python [conda env:AFT]",
   "language": "python",
   "name": "conda-env-AFT-py"
  },
  "language_info": {
   "codemirror_mode": {
    "name": "ipython",
    "version": 3
   },
   "file_extension": ".py",
   "mimetype": "text/x-python",
   "name": "python",
   "nbconvert_exporter": "python",
   "pygments_lexer": "ipython3",
   "version": "3.12.3"
  }
 },
 "nbformat": 4,
 "nbformat_minor": 5
}
